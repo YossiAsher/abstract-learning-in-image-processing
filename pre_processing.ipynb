{
  "nbformat": 4,
  "nbformat_minor": 0,
  "metadata": {
    "colab": {
      "name": "pre-processing.ipynb",
      "private_outputs": true,
      "provenance": [],
      "machine_shape": "hm",
      "mount_file_id": "1yr0d0tPIBXrtyqtA-3AgZnAqXoOflCLX",
      "authorship_tag": "ABX9TyOMajhHLz9SH1zjy80ZkwxZ",
      "include_colab_link": true
    },
    "kernelspec": {
      "name": "python3",
      "display_name": "Python 3"
    },
    "language_info": {
      "name": "python"
    },
    "accelerator": "GPU"
  },
  "cells": [
    {
      "cell_type": "markdown",
      "metadata": {
        "id": "view-in-github",
        "colab_type": "text"
      },
      "source": [
        "<a href=\"https://colab.research.google.com/github/YossiAsher/abstract-learning-in-image-processing/blob/main/pre_processing.ipynb\" target=\"_parent\"><img src=\"https://colab.research.google.com/assets/colab-badge.svg\" alt=\"Open In Colab\"/></a>"
      ]
    },
    {
      "cell_type": "code",
      "metadata": {
        "id": "PVvaJxO3PROA"
      },
      "source": [
        "!pip install drawSvg\n",
        "import drawSvg as draw"
      ],
      "execution_count": null,
      "outputs": []
    },
    {
      "cell_type": "code",
      "metadata": {
        "id": "xQDx5ER4G1Pn"
      },
      "source": [
        "import cv2\n",
        "\n",
        "import numpy as np\n",
        "import glob\n",
        "\n",
        "import os\n",
        "\n",
        "from pathlib import Path\n"
      ],
      "execution_count": null,
      "outputs": []
    },
    {
      "cell_type": "code",
      "metadata": {
        "id": "2GK5-_8hMhHF"
      },
      "source": [
        "def first_nonzero(arr, axis, invalid_val=-1):\n",
        "    arr = np.sum(arr, 0)\n",
        "    mask = arr!=0\n",
        "    return np.where(mask.any(axis=axis), mask.argmax(axis=axis), invalid_val)"
      ],
      "execution_count": null,
      "outputs": []
    },
    {
      "cell_type": "code",
      "metadata": {
        "id": "rDgaImXAjh2f"
      },
      "source": [
        "def crop_image(img):\n",
        "  height, width = img.shape\n",
        "\n",
        "  a1 = first_nonzero(img, 0)\n",
        "\n",
        "  img_90 = cv2.rotate(img, cv2.ROTATE_90_COUNTERCLOCKWISE)\n",
        "  a2 = first_nonzero(img_90, 0)\n",
        "\n",
        "  img_180 = cv2.rotate(img_90, cv2.ROTATE_90_COUNTERCLOCKWISE)\n",
        "  a3 = first_nonzero(img_180, 0)\n",
        "\n",
        "  img_270= cv2.rotate(img_180, cv2.ROTATE_90_COUNTERCLOCKWISE)\n",
        "  a4 = first_nonzero(img_270, 0)\n",
        "\n",
        "  return img[a2:height - a4, a1:width- a3]"
      ],
      "execution_count": null,
      "outputs": []
    },
    {
      "cell_type": "code",
      "metadata": {
        "id": "uXkI5ObLOZb6"
      },
      "source": [
        "def save_svg(img, name):\n",
        "  height, width = img.shape\n",
        "  d = draw.Drawing(width, height)\n",
        "  contours, hierarchy = cv2.findContours(img, cv2.RETR_EXTERNAL , cv2.CHAIN_APPROX_TC89_L1)\n",
        "  for c in contours:\n",
        "    p = draw.Path()\n",
        "    for i in range(len(c)):\n",
        "      x, y = c[i][0]\n",
        "      if i == 0:\n",
        "        p.M(x, y)\n",
        "      else:\n",
        "        p.L(x, y)\n",
        "    d.append(p)\n",
        "  d.saveSvg(name)"
      ],
      "execution_count": null,
      "outputs": []
    },
    {
      "cell_type": "code",
      "metadata": {
        "id": "sv6LAWH9Os3X"
      },
      "source": [
        "def save_png(img, name):\n",
        "  cv2.imwrite(name, img)"
      ],
      "execution_count": null,
      "outputs": []
    },
    {
      "cell_type": "code",
      "metadata": {
        "id": "VszhYmIHPOpN"
      },
      "source": [
        "davis_dataset_path = 'png' # need to replace\n",
        "base_path = 'processing' \n",
        "files = glob.glob(f\"{davis_dataset_path}/**/*.png\", recursive=True)"
      ],
      "execution_count": null,
      "outputs": []
    },
    {
      "cell_type": "code",
      "metadata": {
        "id": "k_JpClYWGWr5"
      },
      "source": [
        "for file in files:\n",
        "  clas = file.split('/')[-2]\n",
        "  file_name = file.split('/')[-1].split('.')[0]\n",
        "  img = cv2.imread(file, cv2.IMREAD_GRAYSCALE)\n",
        "  ret, mask = cv2.threshold(img,27,25, cv2.THRESH_BINARY)\n",
        "  mask = crop_image(mask)\n",
        "\n",
        "  path_svg = f'{base_path}/svg/{clas}'\n",
        "  Path(path_svg).mkdir(parents=True, exist_ok=True)\n",
        "  save_svg(mask, f\"{path_svg}/{file_name}.svg\")\n",
        "\n",
        "  path_png = f'{base_path}/png/{clas}'\n",
        "  Path(path_png).mkdir(parents=True, exist_ok=True)\n",
        "  save_png(mask, f\"{path_png}/{file_name}.png\")\n",
        "  break"
      ],
      "execution_count": null,
      "outputs": []
    }
  ]
}